{
  "nbformat": 4,
  "nbformat_minor": 0,
  "metadata": {
    "colab": {
      "provenance": []
    },
    "kernelspec": {
      "name": "python3",
      "display_name": "Python 3"
    },
    "language_info": {
      "name": "python"
    }
  },
  "cells": [
    {
      "cell_type": "code",
      "execution_count": 1,
      "metadata": {
        "colab": {
          "base_uri": "https://localhost:8080/"
        },
        "id": "SnRWeeeylXqE",
        "outputId": "a5b24193-542f-4e7b-ba73-2e2155d7d8ef"
      },
      "outputs": [
        {
          "output_type": "stream",
          "name": "stdout",
          "text": [
            "\r0% [Working]\r            \rGet:1 https://cloud.r-project.org/bin/linux/ubuntu jammy-cran40/ InRelease [3,626 B]\n",
            "\r0% [Connecting to archive.ubuntu.com (185.125.190.39)] [Waiting for headers] [1\r0% [Connecting to archive.ubuntu.com (185.125.190.39)] [Waiting for headers] [C\r                                                                               \rGet:2 https://developer.download.nvidia.com/compute/cuda/repos/ubuntu2204/x86_64  InRelease [1,581 B]\n",
            "Get:3 http://security.ubuntu.com/ubuntu jammy-security InRelease [110 kB]\n",
            "Hit:4 http://archive.ubuntu.com/ubuntu jammy InRelease\n",
            "Get:5 http://archive.ubuntu.com/ubuntu jammy-updates InRelease [119 kB]\n",
            "Hit:6 https://ppa.launchpadcontent.net/c2d4u.team/c2d4u4.0+/ubuntu jammy InRelease\n",
            "Get:7 https://cloud.r-project.org/bin/linux/ubuntu jammy-cran40/ Packages [41.5 kB]\n",
            "Get:8 https://developer.download.nvidia.com/compute/cuda/repos/ubuntu2204/x86_64  Packages [416 kB]\n",
            "Get:9 http://archive.ubuntu.com/ubuntu jammy-backports InRelease [108 kB]\n",
            "Hit:10 https://ppa.launchpadcontent.net/deadsnakes/ppa/ubuntu jammy InRelease\n",
            "Get:11 https://ppa.launchpadcontent.net/graphics-drivers/ppa/ubuntu jammy InRelease [24.3 kB]\n",
            "Get:12 http://security.ubuntu.com/ubuntu jammy-security/universe amd64 Packages [952 kB]\n",
            "Get:13 http://archive.ubuntu.com/ubuntu jammy-updates/main amd64 Packages [1,016 kB]\n",
            "Get:14 http://security.ubuntu.com/ubuntu jammy-security/main amd64 Packages [731 kB]\n",
            "Hit:15 https://ppa.launchpadcontent.net/ubuntugis/ppa/ubuntu jammy InRelease\n",
            "Get:16 http://security.ubuntu.com/ubuntu jammy-security/restricted amd64 Packages [734 kB]\n",
            "Get:17 http://archive.ubuntu.com/ubuntu jammy-updates/restricted amd64 Packages [749 kB]\n",
            "Get:18 http://archive.ubuntu.com/ubuntu jammy-updates/universe amd64 Packages [1,208 kB]\n",
            "Get:19 https://ppa.launchpadcontent.net/graphics-drivers/ppa/ubuntu jammy/main amd64 Packages [36.0 kB]\n",
            "Fetched 6,251 kB in 3s (2,002 kB/s)\n",
            "Reading package lists... Done\n",
            "W: https://cloud.r-project.org/bin/linux/ubuntu/jammy-cran40/InRelease: Key is stored in legacy trusted.gpg keyring (/etc/apt/trusted.gpg), see the DEPRECATION section in apt-key(8) for details.\n",
            "\u001b[2K     \u001b[90m━━━━━━━━━━━━━━━━━━━━━━━━━━━━━━━━━━━━━━━\u001b[0m \u001b[32m310.8/310.8 MB\u001b[0m \u001b[31m3.1 MB/s\u001b[0m eta \u001b[36m0:00:00\u001b[0m\n",
            "\u001b[?25h  Preparing metadata (setup.py) ... \u001b[?25l\u001b[?25hdone\n",
            "  Building wheel for pyspark (setup.py) ... \u001b[?25l\u001b[?25hdone\n"
          ]
        }
      ],
      "source": [
        "# Install java 8\n",
        "!apt-get update\n",
        "!apt-get install openjdk-8-jdk-headless -qq > /dev/null\n",
        "\n",
        "# Download Apache Spark binary: This link can change based on the version. Update this link with the latest version before using\n",
        "!wget -q https://downloads.apache.org/spark/spark-3.4.1/spark-3.4.1-bin-hadoop3.tgz\n",
        "\n",
        "# Unzip file\n",
        "!tar -xf spark-3.4.1-bin-hadoop3.tgz\n",
        "!pip install -q pyspark==3.4.1\n",
        "\n",
        "# Add environmental variables\n",
        "import os\n",
        "os.environ[\"JAVA_HOME\"] = \"/usr/lib/jvm/java-8-openjdk-amd64\"\n",
        "os.environ[\"SPARK_HOME\"] = \"/content/spark-3.4.1-bin-hadoop3\""
      ]
    },
    {
      "cell_type": "code",
      "source": [
        "from pyspark.sql import SparkSession\n",
        "\n",
        "spark = SparkSession \\\n",
        "    .builder \\\n",
        "    .appName(\"Mario Galaxy 2 Project ETL\") \\\n",
        "    .getOrCreate()\n",
        "    #.config(\"spark.some.config.option\", \"some-value\") \\"
      ],
      "metadata": {
        "id": "7IWlRNVPoQxm"
      },
      "execution_count": 2,
      "outputs": []
    },
    {
      "cell_type": "code",
      "source": [
        "sc = spark.sparkContext\n",
        "sc"
      ],
      "metadata": {
        "colab": {
          "base_uri": "https://localhost:8080/",
          "height": 196
        },
        "id": "HOvhZxhEohCZ",
        "outputId": "e48a7cbe-c3cf-4cfe-90f5-2eafa63d0f08"
      },
      "execution_count": 3,
      "outputs": [
        {
          "output_type": "execute_result",
          "data": {
            "text/plain": [
              "<SparkContext master=local[*] appName=Mario Galaxy 2 Project ETL>"
            ],
            "text/html": [
              "\n",
              "        <div>\n",
              "            <p><b>SparkContext</b></p>\n",
              "\n",
              "            <p><a href=\"http://10db019f9992:4040\">Spark UI</a></p>\n",
              "\n",
              "            <dl>\n",
              "              <dt>Version</dt>\n",
              "                <dd><code>v3.4.1</code></dd>\n",
              "              <dt>Master</dt>\n",
              "                <dd><code>local[*]</code></dd>\n",
              "              <dt>AppName</dt>\n",
              "                <dd><code>Mario Galaxy 2 Project ETL</code></dd>\n",
              "            </dl>\n",
              "        </div>\n",
              "        "
            ]
          },
          "metadata": {},
          "execution_count": 3
        }
      ]
    },
    {
      "cell_type": "code",
      "source": [
        "stars_df = spark.read.csv(\"stars_table.csv\", inferSchema = False, header = True)\n",
        "traps_df = spark.read.csv(\"traps_table.csv\", inferSchema = False, header = True)\n",
        "trap_dets = spark.read.csv(\"trap_details_table.csv\", inferSchema = False, header = True)\n",
        "bosses_df = spark.read.csv(\"bosses_table.csv\", inferSchema = False, header = True)\n",
        "enemies_df = spark.read.csv(\"enemies_table.csv\", inferSchema = False, header = True)\n",
        "enemy_dets = spark.read.csv(\"enemy_details_table.csv\", inferSchema = False, header = True)\n",
        "power_df = spark.read.csv(\"powerups_table.csv\", inferSchema = False, header = True)\n",
        "power_dets = spark.read.csv(\"powerup_details_table.csv\", inferSchema = False, header = True)"
      ],
      "metadata": {
        "id": "3DYA9vKDota0"
      },
      "execution_count": 4,
      "outputs": []
    },
    {
      "cell_type": "code",
      "source": [
        "stars_df.show(10)"
      ],
      "metadata": {
        "colab": {
          "base_uri": "https://localhost:8080/"
        },
        "id": "rxEZULT-qrft",
        "outputId": "f8547682-45c2-4af2-ba61-eb28b8d68e24"
      },
      "execution_count": 5,
      "outputs": [
        {
          "output_type": "stream",
          "name": "stdout",
          "text": [
            "+----+--------------------+----------+---------+------+---------+-----+----+-----+----+--------------------+-----------+--------------------+--------------+-----------+-----------+\n",
            "|  id|         galaxy_name|star_label|prankster|deaths|star_bits|coins|hits|hits2|boss|         new_enemies|comet_medal|completion_timestamp|major_sections|lives_found| difficulty|\n",
            "+----+--------------------+----------+---------+------+---------+-----+----+-----+----+--------------------+-----------+--------------------+--------------+-----------+-----------+\n",
            "|1000|  Sky Station Galaxy|         1|        N|     0|      245|   63|   1|    0|   Y|Small Goomba, Goo...|          Y| 2022-08-22 10:40:33|             5|          5|       Easy|\n",
            "|1001|   Yoshi Star Galaxy|         1|        N|     0|      224|   30|   0|    0|   N|Piranha Plant, Ma...|          Y| 2022-08-28 21:03:10|             4|          1|       Easy|\n",
            "|1002|   Yoshi Star Galaxy|         2|        N|     0|      146|   51|   0|    1|   Y|Spiny, Lakitu, Gi...|          N| 2022-08-28 21:14:25|             5|          4|       Easy|\n",
            "|1003|    Flip-Swap Galaxy|         1|        N|     0|       31|    4|   0|    0|   N|         Chain Chomp|          Y| 2022-08-28 21:21:21|             2|          2|       Easy|\n",
            "|1004|     Spin-Dig Galaxy|         1|        N|     0|      157|   65|   1|    0|   Y|Digga, Twirlip, D...|          Y| 2022-08-28 21:30:00|             5|          1|       Easy|\n",
            "|1005|Rightside Down Ga...|         1|        N|     0|      163|   75|   1|    0|   N|Swaphopper, Spiny...|          Y| 2022-08-28 21:47:50|             4|          2|       Easy|\n",
            "|1006| Fluffy Bluff Galaxy|         1|        N|     0|      170|   26|   0|    0|   N|Flaptack, Elite O...|          Y| 2022-08-28 21:59:33|             4|          2|       Easy|\n",
            "|1007|Bowser Jr's Fiery...|       GS1|        N|     0|      119|   11|   0|    2|   Y|Astro Goomba, Dry...|          Y| 2022-08-28 22:10:04|             3|          1|Easy-Medium|\n",
            "|1008| Puzzle Plank Galaxy|         1|        N|     0|       79|   21|   0|    0|   Y|Wiggler, Blue Men...|          Y| 2022-09-05 14:55:43|             4|          1|Easy-Medium|\n",
            "|1009| Boulder Bowl Galaxy|         1|        N|     0|      234|   19|   1|    1|   Y|Bowling Pins, Oct...|          Y| 2022-09-05 15:02:56|             4|          1|Easy-Medium|\n",
            "+----+--------------------+----------+---------+------+---------+-----+----+-----+----+--------------------+-----------+--------------------+--------------+-----------+-----------+\n",
            "only showing top 10 rows\n",
            "\n"
          ]
        }
      ]
    },
    {
      "cell_type": "code",
      "source": [
        "from pyspark.sql import functions as f\n",
        "\n",
        "# Take the average of the two hit columns\n",
        "final_df_last = stars_df.filter(stars_df.id == 1123).withColumn('avg_hits', ((f.col('hits') + f.col('hits2')) / 2)+ 2) # separate the last star and add 2 to the avg hits because hits2 was null\n",
        "final_df = stars_df.filter(stars_df.id != 1123).withColumn('avg_hits', (f.col('hits') + f.col('hits2')) / 2) # take the average of hits and hits2 for all other stars/rows\n",
        "final_df = final_df.unionByName(final_df_last) # Join the last row to the other rows again\n",
        "final_df = final_df.drop('hits', 'hits2') # Drop the hits columns because we only need the average"
      ],
      "metadata": {
        "id": "r_8Bw7lOwFmk"
      },
      "execution_count": 7,
      "outputs": []
    },
    {
      "cell_type": "code",
      "source": [
        "# Convert the boss and prankster columns to numerical using a Pipeline and StringIndexer\n",
        "from pyspark.ml.feature import StringIndexer\n",
        "from pyspark.ml import Pipeline\n",
        "\n",
        "ind = [StringIndexer(inputCol = 'boss', outputCol = 'bossIndex'), StringIndexer(inputCol = 'prankster', outputCol = 'prankIndex')]\n",
        "pipeline = Pipeline(stages = ind)\n",
        "final_df = pipeline.fit(final_df).transform(final_df)\n",
        "final_df.show()"
      ],
      "metadata": {
        "colab": {
          "base_uri": "https://localhost:8080/"
        },
        "id": "B5Cj0nEEC5qB",
        "outputId": "28452b6b-d7f8-4801-b067-660c5994231d"
      },
      "execution_count": 8,
      "outputs": [
        {
          "output_type": "stream",
          "name": "stdout",
          "text": [
            "+----+--------------------+----------+---------+------+---------+-----+----+--------------------+-----------+--------------------+--------------+-----------+-----------+--------+---------+----------+\n",
            "|  id|         galaxy_name|star_label|prankster|deaths|star_bits|coins|boss|         new_enemies|comet_medal|completion_timestamp|major_sections|lives_found| difficulty|avg_hits|bossIndex|prankIndex|\n",
            "+----+--------------------+----------+---------+------+---------+-----+----+--------------------+-----------+--------------------+--------------+-----------+-----------+--------+---------+----------+\n",
            "|1000|  Sky Station Galaxy|         1|        N|     0|      245|   63|   Y|Small Goomba, Goo...|          Y| 2022-08-22 10:40:33|             5|          5|       Easy|     0.5|      1.0|       0.0|\n",
            "|1001|   Yoshi Star Galaxy|         1|        N|     0|      224|   30|   N|Piranha Plant, Ma...|          Y| 2022-08-28 21:03:10|             4|          1|       Easy|     0.0|      0.0|       0.0|\n",
            "|1002|   Yoshi Star Galaxy|         2|        N|     0|      146|   51|   Y|Spiny, Lakitu, Gi...|          N| 2022-08-28 21:14:25|             5|          4|       Easy|     0.5|      1.0|       0.0|\n",
            "|1003|    Flip-Swap Galaxy|         1|        N|     0|       31|    4|   N|         Chain Chomp|          Y| 2022-08-28 21:21:21|             2|          2|       Easy|     0.0|      0.0|       0.0|\n",
            "|1004|     Spin-Dig Galaxy|         1|        N|     0|      157|   65|   Y|Digga, Twirlip, D...|          Y| 2022-08-28 21:30:00|             5|          1|       Easy|     0.5|      1.0|       0.0|\n",
            "|1005|Rightside Down Ga...|         1|        N|     0|      163|   75|   N|Swaphopper, Spiny...|          Y| 2022-08-28 21:47:50|             4|          2|       Easy|     0.5|      0.0|       0.0|\n",
            "|1006| Fluffy Bluff Galaxy|         1|        N|     0|      170|   26|   N|Flaptack, Elite O...|          Y| 2022-08-28 21:59:33|             4|          2|       Easy|     0.0|      0.0|       0.0|\n",
            "|1007|Bowser Jr's Fiery...|       GS1|        N|     0|      119|   11|   Y|Astro Goomba, Dry...|          Y| 2022-08-28 22:10:04|             3|          1|Easy-Medium|     1.0|      1.0|       0.0|\n",
            "|1008| Puzzle Plank Galaxy|         1|        N|     0|       79|   21|   Y|Wiggler, Blue Men...|          Y| 2022-09-05 14:55:43|             4|          1|Easy-Medium|     0.0|      1.0|       0.0|\n",
            "|1009| Boulder Bowl Galaxy|         1|        N|     0|      234|   19|   Y|Bowling Pins, Oct...|          Y| 2022-09-05 15:02:56|             4|          1|Easy-Medium|     1.0|      1.0|       0.0|\n",
            "|1010|Hightail Falls Ga...|         1|        N|     0|      121|   40|   N|                None|          Y| 2022-09-05 15:09:11|             4|          2|Easy-Medium|     0.5|      0.0|       0.0|\n",
            "|1011|   Wild Glide Galaxy|         1|        N|     0|       29|    3|   N|                None|          Y| 2022-09-05 15:14:47|             1|          1|Easy-Medium|     0.0|      0.0|       0.0|\n",
            "|1012|   Honeybloom Galaxy|         1|        N|     0|      161|   29|   N|       Choppa, Fuzzy|          Y| 2022-09-05 15:22:08|             4|          0|Easy-Medium|     0.5|      0.0|       0.0|\n",
            "|1013|  Cosmic Cove Galaxy|         1|        N|     0|       94|   20|   N|Koopa Troopa, Sno...|          Y| 2022-09-05 15:33:58|             2|          1|       Easy|     0.0|      0.0|       0.0|\n",
            "|1014|  Cosmic Cove Galaxy|         2|        N|     0|      116|   40|   N|Li'l Brrr, Eel, J...|          N| 2022-09-05 15:46:12|             4|          2|Easy-Medium|     1.0|      0.0|       0.0|\n",
            "|1015|  Sky Station Galaxy|         2|        N|     0|      184|   28|   N|Mini Wanwan, Bonz...|          N| 2022-09-05 15:54:40|             4|          3|       Easy|     0.0|      0.0|       0.0|\n",
            "|1016|  Bowser's Lava Lair|       GS2|        N|     0|      122|   19|   Y|Flomp, Hammer Bro...|          Y| 2022-09-05 16:08:00|             4|          3|     Medium|     1.0|      1.0|       0.0|\n",
            "|1017| Cloudy Court Galaxy|         1|        N|     0|       74|   29|   N|                None|          Y| 2022-09-07 21:57:21|             3|          5|     Medium|     0.0|      0.0|       0.0|\n",
            "|1018|   Tall Trunk Galaxy|         1|        N|     0|      104|   11|   N|              Spoing|          Y| 2022-09-07 22:06:12|             3|          2|     Medium|     0.0|      0.0|       0.0|\n",
            "|1019|   Tall Trunk Galaxy|         2|        N|     0|      151|   45|   N|                None|          N| 2022-09-07 22:13:44|             2|          4|     Medium|     0.0|      0.0|       0.0|\n",
            "+----+--------------------+----------+---------+------+---------+-----+----+--------------------+-----------+--------------------+--------------+-----------+-----------+--------+---------+----------+\n",
            "only showing top 20 rows\n",
            "\n"
          ]
        }
      ]
    },
    {
      "cell_type": "code",
      "source": [
        "# Deal with the duplicate entries for the final bowser star\n",
        "final_bowser_df = final_df.filter((final_df.galaxy_name == \"Bowser's Galaxy Generator\") & (final_df.prankster == 'N')).toPandas() # Filter out the final bowser stars into a pandas df\n",
        "final_df = final_df[~final_df['galaxy_name'].endswith('Generator')] # Remove the duplicated final bowser star from the df after filtering it into a separate one\n",
        "\n",
        "final_bowser_df['id'] = 1070 # Define what the final bowser row's values will be\n",
        "final_bowser_df['star_label'] = 'GS6'\n",
        "final_bowser_df['star_bits'] = 72\n",
        "final_bowser_df['coins'] = 22\n",
        "final_bowser_df['new_enemies'] = 'Bowser III'\n",
        "final_bowser_df['comet_medal'] = 'Y'\n",
        "final_bowser_df['difficulty'] = 'Harder' # First iteration of the final bowser star was Harder, the second Expert\n",
        "final_bowser_df['avg_hits'] = 2\n",
        "\n",
        "final_bowser_df.drop(final_bowser_df.tail(1).index,inplace = True) # Extract the first row in the df\n",
        "final_bowser = spark.createDataFrame(final_bowser_df.astype(str)) # Convert the new final bowser star row into a Spark DF\n",
        "final_df = final_df.unionByName(final_bowser) # Add the final bowser star to the original df\n",
        "\n",
        "final_bowser_row = final_df.filter(final_df.galaxy_name == \"Bowser's Galaxy Generator\") # Show that there is only one row now for the final bowser star\n",
        "final_bowser_row.show()"
      ],
      "metadata": {
        "colab": {
          "base_uri": "https://localhost:8080/"
        },
        "id": "v9u3I_-VFPvS",
        "outputId": "6c417bc9-9e50-4578-f422-a6f46ff066da"
      },
      "execution_count": 9,
      "outputs": [
        {
          "output_type": "stream",
          "name": "stdout",
          "text": [
            "+----+--------------------+----------+---------+------+---------+-----+----+-----------+-----------+--------------------+--------------+-----------+----------+--------+---------+----------+\n",
            "|  id|         galaxy_name|star_label|prankster|deaths|star_bits|coins|boss|new_enemies|comet_medal|completion_timestamp|major_sections|lives_found|difficulty|avg_hits|bossIndex|prankIndex|\n",
            "+----+--------------------+----------+---------+------+---------+-----+----+-----------+-----------+--------------------+--------------+-----------+----------+--------+---------+----------+\n",
            "|1070|Bowser's Galaxy G...|       GS6|        N|     0|       72|   22|   Y| Bowser III|          Y| 2022-10-23 09:08:00|             6|          2|    Harder|       2|      1.0|       0.0|\n",
            "+----+--------------------+----------+---------+------+---------+-----+----+-----------+-----------+--------------------+--------------+-----------+----------+--------+---------+----------+\n",
            "\n"
          ]
        }
      ]
    },
    {
      "cell_type": "code",
      "source": [
        "# Using the enemies, bosses, and enemy details dataframes convert the enemies data into numerical predictors for difficulty and add to final df\n",
        "\n",
        "# Old, Deprecated way of using pyspark.sql to use SQL to manipulate Spark DFs\n",
        "\"\"\"from pyspark.sql import HiveContext\n",
        "\n",
        "sql = HiveContext(sc)\n",
        "sql.registerDataFrameAsTable(stars_df, 'stars')\n",
        "sql.sql(\"SELECT * FROM stars\").show()\n",
        "\"\"\"\n",
        "# Modern, easier way using SparkSession\n",
        "final_df.createOrReplaceTempView(\"stars\") # Create a temporary table out of our created dataframe\n",
        "#spark.sql(\"Select * from stars\").show() # Use our Spark Session and the sql method to run a SQL query on the temporary table\n",
        "\n",
        "# Run a SQL query to combine enemy, bosses, enemy_details, and stars tables\n",
        "enemies_df.createOrReplaceTempView(\"enemies\")\n",
        "enemy_dets.createOrReplaceTempView(\"enemy_details\")\n",
        "bosses_df.createOrReplaceTempView(\"bosses\")\n",
        "#spark.sql('SELECT * FROM enemies WHERE is_boss = \"Y\"').show()\n",
        "# we can save the results of a SparkSQL query as a Spark DF (enemy details DF to be exact)\n",
        "basic_boss_df = bosses_df.select(['star_id', 'name', 'b_rank']) # Save bosses, their rank, and the stars they are found in in a separate df\n",
        "basic_boss_df = basic_boss_df.withColumnRenamed('star_id', 'id')\n",
        "#basic_boss_df.show()\n",
        "# create a dataframe that combines stars, enemy, and enemy details tables together so we can group stars and enemy ranks found in the stars\n",
        "star_enemy_df = spark.sql(\"SELECT s.id, s.boss, e.eid, e.is_boss, e.name, e.e_rank FROM stars s LEFT JOIN enemy_details ed ON s.id = ed.star_id LEFT JOIN enemies e ON ed.e_id = e.eid\")\n",
        "star_enemy_df = star_enemy_df.withColumn('e_rank', f.col('e_rank').cast('integer'))\n",
        "star_avg_rank = star_enemy_df.groupby('id').agg({'eid':'count', 'e_rank':'avg'}) # Take the average rank and count of how many enemies are found in stars\n",
        "star_avg_rank = star_avg_rank.withColumn('e_rank_avg', f.round(f.col('avg(e_rank)'))) # Round the average rank to the highest integer\n",
        "\n",
        "#star_avg_rank.show()\n",
        "\n",
        "plus_bosses = star_avg_rank.join(basic_boss_df, on = 'id', how = 'left_outer') # Add bosses to the star, enemy rank df\n",
        "#plus_bosses.show()\n",
        "\n",
        "plus_bosses = plus_bosses.withColumn('total_rank', f.col('avg(e_rank)') * f.col('count(eid)')) # Find the new enemy average by incorporating the boss found in stars\n",
        "plus_bosses = plus_bosses.withColumn('rank_with_boss', f.round((f.col('total_rank') + (f.col('b_rank') * 0.5)) / (f.col('count(eid)') + 1)))\n",
        "plus_bosses = plus_bosses.withColumn('final_e_rank', f.when(plus_bosses.rank_with_boss.isNotNull(), plus_bosses.rank_with_boss).otherwise(plus_bosses.e_rank_avg))\n",
        "# Record the final average rank by returning the non-boss average when there is not a boss in the star and the boss average when there is a boss\n",
        "plus_bosses = plus_bosses.select(['id', 'final_e_rank'])\n",
        "\n",
        "star_enemy_ranks = plus_bosses.groupby('id').avg('final_e_rank') # Save the final enemy average rank and the star id in a separate df\n",
        "star_enemy_ranks = star_enemy_ranks.na.fill(100.0) # Fill the avg rank as 100 for stars with no enemies\n",
        "#star_enemy_ranks.sort('avg(final_e_rank)', ascending = False).show()\n",
        "\n",
        "final_df = final_df.join(star_enemy_ranks, ['id'])\n",
        "final_df.show()"
      ],
      "metadata": {
        "colab": {
          "base_uri": "https://localhost:8080/"
        },
        "id": "tzzcjFOWPake",
        "outputId": "6934c49c-a500-4814-c403-cb43dabdf3d4"
      },
      "execution_count": 22,
      "outputs": [
        {
          "output_type": "stream",
          "name": "stdout",
          "text": [
            "+----+--------------------+----------+---------+------+---------+-----+----+--------------------+-----------+--------------------+--------------+-----------+-----------+--------+---------+----------+-----------------+\n",
            "|  id|         galaxy_name|star_label|prankster|deaths|star_bits|coins|boss|         new_enemies|comet_medal|completion_timestamp|major_sections|lives_found| difficulty|avg_hits|bossIndex|prankIndex|avg(final_e_rank)|\n",
            "+----+--------------------+----------+---------+------+---------+-----+----+--------------------+-----------+--------------------+--------------+-----------+-----------+--------+---------+----------+-----------------+\n",
            "|1090|Stone Cyclone Galaxy|         1|        N|     0|       82|    9|   N|             Tox Box|          Y| 2022-11-09 22:18:42|             2|          2|     Harder|     0.0|      0.0|       0.0|             29.0|\n",
            "|1043|   Shiverburn Galaxy|         1|        N|     0|      240|   11|   Y|Ring Beam, Ota Ro...|          Y| 2022-10-15 22:43:00|             4|          4|       Hard|     2.5|      1.0|       0.0|             27.0|\n",
            "|1104|     Boo Moon Galaxy|        MS|        N|     1|       74|   11|   N|                None|          N| 2022-11-15 23:24:55|             2|          0|Medium-Hard|     0.0|      0.0|       0.0|             37.0|\n",
            "|1008| Puzzle Plank Galaxy|         1|        N|     0|       79|   21|   Y|Wiggler, Blue Men...|          Y| 2022-09-05 14:55:43|             4|          1|Easy-Medium|     0.0|      1.0|       0.0|             52.0|\n",
            "|1041|  Space Storm Galaxy|         1|        N|     0|       91|   18|   N| Mini Topman, Topman|          Y| 2022-10-15 22:29:13|             3|          2|Medium-Hard|     0.0|      0.0|       0.0|             59.0|\n",
            "|1093| Puzzle Plank Galaxy|        MS|        N|     0|       81|    3|   Y|            Bugaboom|          N| 2022-11-10 16:03:39|             3|          0|Easy-Medium|     0.0|      1.0|       0.0|             36.0|\n",
            "|1111|  Battle Belt Galaxy|        MS|        N|     0|       83|    3|   Y|     Fiery Gobblegut|          N| 2022-11-17 23:34:00|             6|          1|     Expert|     3.5|      1.0|       0.0|             41.0|\n",
            "|1099|  Flash Black Galaxy|         2|        Y|     0|       14|    2|   N|                None|          N| 2022-11-15 16:24:25|             1|          0|       Hard|     1.5|      0.0|       1.0|             64.0|\n",
            "|1100|   Boss Blitz Galaxy|         1|        N|     0|      154|    7|   Y|Dino Piranha, Kin...|          Y| 2022-11-15 16:33:31|             5|          0|     Harder|     2.0|      1.0|       0.0|              8.4|\n",
            "|1021| Freezy Flake Galaxy|         2|        N|     0|       61|   21|   Y|            Sorbetti|          N| 2022-09-07 22:29:59|             4|          4|     Medium|     0.0|      1.0|       0.0|             23.0|\n",
            "|1032|     Honeyhop Galaxy|         1|        N|     0|      101|   22|   N|                None|          Y| 2022-10-11 23:09:15|             3|          0|     Medium|     1.0|      0.0|       0.0|             66.0|\n",
            "|1056|Melty Monster Galaxy|         1|        N|     0|       80|   14|   N|              Magmaw|          Y| 2022-10-20 21:08:09|             4|          0|       Hard|     1.5|      0.0|       0.0|             34.0|\n",
            "|1012|   Honeybloom Galaxy|         1|        N|     0|      161|   29|   N|       Choppa, Fuzzy|          Y| 2022-09-05 15:22:08|             4|          0|Easy-Medium|     0.5|      0.0|       0.0|             50.0|\n",
            "|1097|  Cosmic Cove Galaxy|        MS|        N|     0|       37|    0|   N|                None|          N| 2022-11-15 18:10:00|             3|          1|     Medium|     0.0|      0.0|       0.0|             64.0|\n",
            "|1109|  Battle Belt Galaxy|         2|        Y|     0|       82|    0|   N|                None|          N| 2022-11-17 22:25:31|             8|          2|     Harder|     0.0|      0.0|       1.0|             48.0|\n",
            "|1089|    Throwback Galaxy|         3|        Y|     0|       77|    3|   N|                None|          N| 2022-11-09 22:11:31|             1|          2|       Hard|     0.0|      0.0|       1.0|             55.0|\n",
            "|1117|Stone Cyclone Galaxy|         2|        Y|     0|       11|    0|   N|                None|          N| 2022-11-18 22:27:20|             2|          2|     Expert|     0.0|      0.0|       1.0|              3.0|\n",
            "|1054|  Bowser's Lava Lair|         1|        Y|     0|       63|    4|   N|                None|          N| 2022-10-16 21:43:29|             4|          3|Medium-Hard|     1.0|      0.0|       1.0|             36.0|\n",
            "|1045|     Boo Moon Galaxy|         2|        N|     0|       22|   27|   N|                None|          N| 2022-10-15 22:53:48|             2|          1|Medium-Hard|     0.5|      0.0|       0.0|             43.0|\n",
            "|1062|  Flash Black Galaxy|         1|        N|     0|       67|   18|   N|                None|          Y| 2022-10-21 22:26:28|             2|          2|       Hard|     0.5|      0.0|       0.0|             54.0|\n",
            "+----+--------------------+----------+---------+------+---------+-----+----+--------------------+-----------+--------------------+--------------+-----------+-----------+--------+---------+----------+-----------------+\n",
            "only showing top 20 rows\n",
            "\n"
          ]
        }
      ]
    },
    {
      "cell_type": "code",
      "source": [
        "# Do the same thing was traps as with enemies\n",
        "\n",
        "traps_df.createOrReplaceTempView(\"traps\")\n",
        "trap_dets.createOrReplaceTempView(\"trap_details\")\n",
        "\n",
        "# create a dataframe that combines stars, trap, and trap details tables together so we can group stars and trap ranks found in the stars\n",
        "star_trap_df = spark.sql(\"SELECT s.id, t.trap_id, t.name, t.t_rank FROM stars s LEFT JOIN trap_details td ON s.id = td.star_id LEFT JOIN traps t ON td.trap_id = t.trap_id\")\n",
        "star_trap_df = star_trap_df.withColumn('t_rank', f.col('t_rank').cast('integer'))\n",
        "\n",
        "star_tavg_rank = star_trap_df.groupby('id').avg('t_rank') # Take the average rank and count of how many enemies are found in stars\n",
        "star_tavg_rank = star_tavg_rank.withColumn('t_rank_avg', f.round(f.col('avg(t_rank)'))) # Round the average rank to the highest integer\n",
        "\n",
        "star_trap_ranks = star_tavg_rank.select(['id', 't_rank_avg']) # Save the final enemy average rank and the star id in a separate df\n",
        "star_trap_ranks = star_trap_ranks.na.fill(50.0) # Fill the null avg_rank with 50 for stars with no traps\n",
        "#star_trap_ranks.sort('t_rank_avg', ascending = False).show()\n",
        "\n",
        "final_df = final_df.join(star_trap_ranks, ['id'])\n",
        "final_df.show()"
      ],
      "metadata": {
        "colab": {
          "base_uri": "https://localhost:8080/"
        },
        "id": "ioZ55Yha8W0_",
        "outputId": "bdc66ad1-b4a9-4fef-9b5b-a8f9982d6607"
      },
      "execution_count": 23,
      "outputs": [
        {
          "output_type": "stream",
          "name": "stdout",
          "text": [
            "+----+--------------------+----------+---------+------+---------+-----+----+--------------------+-----------+--------------------+--------------+-----------+-----------+--------+---------+----------+-----------------+----------+\n",
            "|  id|         galaxy_name|star_label|prankster|deaths|star_bits|coins|boss|         new_enemies|comet_medal|completion_timestamp|major_sections|lives_found| difficulty|avg_hits|bossIndex|prankIndex|avg(final_e_rank)|t_rank_avg|\n",
            "+----+--------------------+----------+---------+------+---------+-----+----+--------------------+-----------+--------------------+--------------+-----------+-----------+--------+---------+----------+-----------------+----------+\n",
            "|1090|Stone Cyclone Galaxy|         1|        N|     0|       82|    9|   N|             Tox Box|          Y| 2022-11-09 22:18:42|             2|          2|     Harder|     0.0|      0.0|       0.0|             29.0|       9.0|\n",
            "|1043|   Shiverburn Galaxy|         1|        N|     0|      240|   11|   Y|Ring Beam, Ota Ro...|          Y| 2022-10-15 22:43:00|             4|          4|       Hard|     2.5|      1.0|       0.0|             27.0|      14.0|\n",
            "|1104|     Boo Moon Galaxy|        MS|        N|     1|       74|   11|   N|                None|          N| 2022-11-15 23:24:55|             2|          0|Medium-Hard|     0.0|      0.0|       0.0|             37.0|      21.0|\n",
            "|1008| Puzzle Plank Galaxy|         1|        N|     0|       79|   21|   Y|Wiggler, Blue Men...|          Y| 2022-09-05 14:55:43|             4|          1|Easy-Medium|     0.0|      1.0|       0.0|             52.0|      11.0|\n",
            "|1041|  Space Storm Galaxy|         1|        N|     0|       91|   18|   N| Mini Topman, Topman|          Y| 2022-10-15 22:29:13|             3|          2|Medium-Hard|     0.0|      0.0|       0.0|             59.0|      21.0|\n",
            "|1093| Puzzle Plank Galaxy|        MS|        N|     0|       81|    3|   Y|            Bugaboom|          N| 2022-11-10 16:03:39|             3|          0|Easy-Medium|     0.0|      1.0|       0.0|             36.0|      11.0|\n",
            "|1111|  Battle Belt Galaxy|        MS|        N|     0|       83|    3|   Y|     Fiery Gobblegut|          N| 2022-11-17 23:34:00|             6|          1|     Expert|     3.5|      1.0|       0.0|             41.0|       2.0|\n",
            "|1099|  Flash Black Galaxy|         2|        Y|     0|       14|    2|   N|                None|          N| 2022-11-15 16:24:25|             1|          0|       Hard|     1.5|      0.0|       1.0|             64.0|      36.0|\n",
            "|1100|   Boss Blitz Galaxy|         1|        N|     0|      154|    7|   Y|Dino Piranha, Kin...|          Y| 2022-11-15 16:33:31|             5|          0|     Harder|     2.0|      1.0|       0.0|              8.4|      19.0|\n",
            "|1021| Freezy Flake Galaxy|         2|        N|     0|       61|   21|   Y|            Sorbetti|          N| 2022-09-07 22:29:59|             4|          4|     Medium|     0.0|      1.0|       0.0|             23.0|      50.0|\n",
            "|1032|     Honeyhop Galaxy|         1|        N|     0|      101|   22|   N|                None|          Y| 2022-10-11 23:09:15|             3|          0|     Medium|     1.0|      0.0|       0.0|             66.0|       8.0|\n",
            "|1056|Melty Monster Galaxy|         1|        N|     0|       80|   14|   N|              Magmaw|          Y| 2022-10-20 21:08:09|             4|          0|       Hard|     1.5|      0.0|       0.0|             34.0|      24.0|\n",
            "|1012|   Honeybloom Galaxy|         1|        N|     0|      161|   29|   N|       Choppa, Fuzzy|          Y| 2022-09-05 15:22:08|             4|          0|Easy-Medium|     0.5|      0.0|       0.0|             50.0|      23.0|\n",
            "|1097|  Cosmic Cove Galaxy|        MS|        N|     0|       37|    0|   N|                None|          N| 2022-11-15 18:10:00|             3|          1|     Medium|     0.0|      0.0|       0.0|             64.0|       8.0|\n",
            "|1109|  Battle Belt Galaxy|         2|        Y|     0|       82|    0|   N|                None|          N| 2022-11-17 22:25:31|             8|          2|     Harder|     0.0|      0.0|       1.0|             48.0|       2.0|\n",
            "|1089|    Throwback Galaxy|         3|        Y|     0|       77|    3|   N|                None|          N| 2022-11-09 22:11:31|             1|          2|       Hard|     0.0|      0.0|       1.0|             55.0|      25.0|\n",
            "|1117|Stone Cyclone Galaxy|         2|        Y|     0|       11|    0|   N|                None|          N| 2022-11-18 22:27:20|             2|          2|     Expert|     0.0|      0.0|       1.0|              3.0|       9.0|\n",
            "|1054|  Bowser's Lava Lair|         1|        Y|     0|       63|    4|   N|                None|          N| 2022-10-16 21:43:29|             4|          3|Medium-Hard|     1.0|      0.0|       1.0|             36.0|      22.0|\n",
            "|1045|     Boo Moon Galaxy|         2|        N|     0|       22|   27|   N|                None|          N| 2022-10-15 22:53:48|             2|          1|Medium-Hard|     0.5|      0.0|       0.0|             43.0|      50.0|\n",
            "|1062|  Flash Black Galaxy|         1|        N|     0|       67|   18|   N|                None|          Y| 2022-10-21 22:26:28|             2|          2|       Hard|     0.5|      0.0|       0.0|             54.0|      35.0|\n",
            "+----+--------------------+----------+---------+------+---------+-----+----+--------------------+-----------+--------------------+--------------+-----------+-----------+--------+---------+----------+-----------------+----------+\n",
            "only showing top 20 rows\n",
            "\n"
          ]
        }
      ]
    },
    {
      "cell_type": "code",
      "source": [
        "# Do the same thing was powerups as with enemies, traps\n",
        "power_df.createOrReplaceTempView(\"powerups\")\n",
        "power_dets.createOrReplaceTempView(\"powerup_details\")\n",
        "\n",
        "# create a dataframe that combines stars, trap, and trap details tables together so we can group stars and trap ranks found in the stars\n",
        "star_power_df = spark.sql(\"SELECT s.id, p.power_id, p.name, p.p_rank FROM stars s LEFT JOIN powerup_details pd ON s.id = pd.star_id LEFT JOIN powerups p ON pd.p_id = p.power_id\")\n",
        "star_power_df = star_power_df.withColumn('p_rank', f.col('p_rank').cast('integer'))\n",
        "\n",
        "star_pavg_rank = star_power_df.groupby('id').avg('p_rank') # Take the average rank and count of how many enemies are found in stars\n",
        "star_pavg_rank = star_pavg_rank.withColumn('p_rank_avg', f.round(f.col('avg(p_rank)'))) # Round the average rank to the highest integer\n",
        "\n",
        "star_powers_ranks = star_pavg_rank.select(['id', 'p_rank_avg']) # Save the final enemy average rank and the star id in a separate df\n",
        "star_powers_ranks = star_powers_ranks.na.fill(20.0) # Fills the null values in the df with 20 as the average ranking for stars with no powerups\n",
        "# df.na returns null values in the dataframe and then we can apply methods to deal with them\n",
        "#star_powers_ranks.sort('p_rank_avg', ascending = False).show()\n",
        "\n",
        "final_df = final_df.join(star_powers_ranks, ['id'])\n",
        "final_df.show()"
      ],
      "metadata": {
        "colab": {
          "base_uri": "https://localhost:8080/"
        },
        "id": "mD0I1mtFD7aU",
        "outputId": "40a70cac-98e1-4262-cc0c-cc10bdc5e259"
      },
      "execution_count": 24,
      "outputs": [
        {
          "output_type": "stream",
          "name": "stdout",
          "text": [
            "+----+--------------------+----------+---------+------+---------+-----+----+--------------------+-----------+--------------------+--------------+-----------+-----------+--------+---------+----------+-----------------+----------+----------+\n",
            "|  id|         galaxy_name|star_label|prankster|deaths|star_bits|coins|boss|         new_enemies|comet_medal|completion_timestamp|major_sections|lives_found| difficulty|avg_hits|bossIndex|prankIndex|avg(final_e_rank)|t_rank_avg|p_rank_avg|\n",
            "+----+--------------------+----------+---------+------+---------+-----+----+--------------------+-----------+--------------------+--------------+-----------+-----------+--------+---------+----------+-----------------+----------+----------+\n",
            "|1090|Stone Cyclone Galaxy|         1|        N|     0|       82|    9|   N|             Tox Box|          Y| 2022-11-09 22:18:42|             2|          2|     Harder|     0.0|      0.0|       0.0|             29.0|       9.0|      20.0|\n",
            "|1043|   Shiverburn Galaxy|         1|        N|     0|      240|   11|   Y|Ring Beam, Ota Ro...|          Y| 2022-10-15 22:43:00|             4|          4|       Hard|     2.5|      1.0|       0.0|             27.0|      14.0|       4.0|\n",
            "|1104|     Boo Moon Galaxy|        MS|        N|     1|       74|   11|   N|                None|          N| 2022-11-15 23:24:55|             2|          0|Medium-Hard|     0.0|      0.0|       0.0|             37.0|      21.0|      20.0|\n",
            "|1008| Puzzle Plank Galaxy|         1|        N|     0|       79|   21|   Y|Wiggler, Blue Men...|          Y| 2022-09-05 14:55:43|             4|          1|Easy-Medium|     0.0|      1.0|       0.0|             52.0|      11.0|      20.0|\n",
            "|1041|  Space Storm Galaxy|         1|        N|     0|       91|   18|   N| Mini Topman, Topman|          Y| 2022-10-15 22:29:13|             3|          2|Medium-Hard|     0.0|      0.0|       0.0|             59.0|      21.0|       2.0|\n",
            "|1093| Puzzle Plank Galaxy|        MS|        N|     0|       81|    3|   Y|            Bugaboom|          N| 2022-11-10 16:03:39|             3|          0|Easy-Medium|     0.0|      1.0|       0.0|             36.0|      11.0|       5.0|\n",
            "|1111|  Battle Belt Galaxy|        MS|        N|     0|       83|    3|   Y|     Fiery Gobblegut|          N| 2022-11-17 23:34:00|             6|          1|     Expert|     3.5|      1.0|       0.0|             41.0|       2.0|       3.0|\n",
            "|1099|  Flash Black Galaxy|         2|        Y|     0|       14|    2|   N|                None|          N| 2022-11-15 16:24:25|             1|          0|       Hard|     1.5|      0.0|       1.0|             64.0|      36.0|      20.0|\n",
            "|1100|   Boss Blitz Galaxy|         1|        N|     0|      154|    7|   Y|Dino Piranha, Kin...|          Y| 2022-11-15 16:33:31|             5|          0|     Harder|     2.0|      1.0|       0.0|              8.4|      19.0|       2.0|\n",
            "|1021| Freezy Flake Galaxy|         2|        N|     0|       61|   21|   Y|            Sorbetti|          N| 2022-09-07 22:29:59|             4|          4|     Medium|     0.0|      1.0|       0.0|             23.0|      50.0|       4.0|\n",
            "|1032|     Honeyhop Galaxy|         1|        N|     0|      101|   22|   N|                None|          Y| 2022-10-11 23:09:15|             3|          0|     Medium|     1.0|      0.0|       0.0|             66.0|       8.0|       7.0|\n",
            "|1056|Melty Monster Galaxy|         1|        N|     0|       80|   14|   N|              Magmaw|          Y| 2022-10-20 21:08:09|             4|          0|       Hard|     1.5|      0.0|       0.0|             34.0|      24.0|       2.0|\n",
            "|1012|   Honeybloom Galaxy|         1|        N|     0|      161|   29|   N|       Choppa, Fuzzy|          Y| 2022-09-05 15:22:08|             4|          0|Easy-Medium|     0.5|      0.0|       0.0|             50.0|      23.0|      12.0|\n",
            "|1097|  Cosmic Cove Galaxy|        MS|        N|     0|       37|    0|   N|                None|          N| 2022-11-15 18:10:00|             3|          1|     Medium|     0.0|      0.0|       0.0|             64.0|       8.0|      20.0|\n",
            "|1109|  Battle Belt Galaxy|         2|        Y|     0|       82|    0|   N|                None|          N| 2022-11-17 22:25:31|             8|          2|     Harder|     0.0|      0.0|       1.0|             48.0|       2.0|      20.0|\n",
            "|1089|    Throwback Galaxy|         3|        Y|     0|       77|    3|   N|                None|          N| 2022-11-09 22:11:31|             1|          2|       Hard|     0.0|      0.0|       1.0|             55.0|      25.0|       5.0|\n",
            "|1117|Stone Cyclone Galaxy|         2|        Y|     0|       11|    0|   N|                None|          N| 2022-11-18 22:27:20|             2|          2|     Expert|     0.0|      0.0|       1.0|              3.0|       9.0|      20.0|\n",
            "|1054|  Bowser's Lava Lair|         1|        Y|     0|       63|    4|   N|                None|          N| 2022-10-16 21:43:29|             4|          3|Medium-Hard|     1.0|      0.0|       1.0|             36.0|      22.0|       2.0|\n",
            "|1045|     Boo Moon Galaxy|         2|        N|     0|       22|   27|   N|                None|          N| 2022-10-15 22:53:48|             2|          1|Medium-Hard|     0.5|      0.0|       0.0|             43.0|      50.0|       8.0|\n",
            "|1062|  Flash Black Galaxy|         1|        N|     0|       67|   18|   N|                None|          Y| 2022-10-21 22:26:28|             2|          2|       Hard|     0.5|      0.0|       0.0|             54.0|      35.0|       4.0|\n",
            "+----+--------------------+----------+---------+------+---------+-----+----+--------------------+-----------+--------------------+--------------+-----------+-----------+--------+---------+----------+-----------------+----------+----------+\n",
            "only showing top 20 rows\n",
            "\n"
          ]
        }
      ]
    },
    {
      "cell_type": "code",
      "source": [
        "final_df = final_df.withColumnRenamed('avg(final_e_rank)', 'avg_enemy_rank')\n",
        "final_df.groupby('difficulty').avg('avg_enemy_rank').sort('avg(avg_enemy_rank)').show() # Definite trend in enemy rankings and difficulty"
      ],
      "metadata": {
        "colab": {
          "base_uri": "https://localhost:8080/"
        },
        "id": "Lt9jsKxHL554",
        "outputId": "bd292460-3a5a-4121-95e7-cb558de1cbe8"
      },
      "execution_count": 32,
      "outputs": [
        {
          "output_type": "stream",
          "name": "stdout",
          "text": [
            "+-----------+-------------------+\n",
            "| difficulty|avg(avg_enemy_rank)|\n",
            "+-----------+-------------------+\n",
            "|     Harder|              27.55|\n",
            "|     Insane|               30.0|\n",
            "|     Expert|             44.375|\n",
            "|       Hard|  45.80952380952381|\n",
            "|     Medium| 51.111111111111114|\n",
            "|Medium-Hard|           51.65625|\n",
            "|       Easy| 55.166666666666664|\n",
            "|Easy-Medium| 59.416666666666664|\n",
            "+-----------+-------------------+\n",
            "\n"
          ]
        }
      ]
    },
    {
      "cell_type": "code",
      "source": [
        "final_df.columns"
      ],
      "metadata": {
        "colab": {
          "base_uri": "https://localhost:8080/"
        },
        "id": "QhPH-RlmPCV-",
        "outputId": "50280f39-1c58-4481-e7e5-d889ee85a436"
      },
      "execution_count": 33,
      "outputs": [
        {
          "output_type": "execute_result",
          "data": {
            "text/plain": [
              "['id',\n",
              " 'galaxy_name',\n",
              " 'star_label',\n",
              " 'prankster',\n",
              " 'deaths',\n",
              " 'star_bits',\n",
              " 'coins',\n",
              " 'boss',\n",
              " 'new_enemies',\n",
              " 'comet_medal',\n",
              " 'completion_timestamp',\n",
              " 'major_sections',\n",
              " 'lives_found',\n",
              " 'difficulty',\n",
              " 'avg_hits',\n",
              " 'bossIndex',\n",
              " 'prankIndex',\n",
              " 'avg_enemy_rank',\n",
              " 't_rank_avg',\n",
              " 'p_rank_avg']"
            ]
          },
          "metadata": {},
          "execution_count": 33
        }
      ]
    },
    {
      "cell_type": "code",
      "source": [
        "dw_stars_df = final_df.select(['id', 'star_bits', 'coins', 'avg_hits', 'deaths', 'major_sections', 'lives_found', 'bossIndex', 'prankIndex', 'avg_enemy_rank', 't_rank_avg', 'p_rank_avg'])\n",
        "print(dw_stars_df.count()) # Show how many records are in the final df for the model\n",
        "print(dw_stars_df.na.drop().count()) # Drop NAs and show how many records are the df now (should be the same number)"
      ],
      "metadata": {
        "colab": {
          "base_uri": "https://localhost:8080/"
        },
        "id": "0lDa7vrWPoim",
        "outputId": "a5dfa242-f1c9-44fa-d693-55b132284bee"
      },
      "execution_count": 35,
      "outputs": [
        {
          "output_type": "stream",
          "name": "stdout",
          "text": [
            "121\n",
            "121\n"
          ]
        }
      ]
    }
  ]
}